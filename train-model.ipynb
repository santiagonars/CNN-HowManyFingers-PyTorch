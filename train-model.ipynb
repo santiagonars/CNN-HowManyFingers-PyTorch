{
 "cells": [
  {
   "cell_type": "markdown",
   "metadata": {},
   "source": [
    "# How Many Fingers? - PyTorch\n",
    "\n",
    "In this replository is a small application that uses a CNN to predict how many figers you are holding up. The application does some small image manipulation to extract the edges of your hand against a plain background. It also offers functionality to collect data for training.\n",
    "\n",
    "Data has been collected within the application by holding up 0 to 5 fingers in the region of interest and recording images. For training ~1500 images of each case has been recorded with an additional ~600 images for validation."
   ]
  },
  {
   "cell_type": "code",
   "execution_count": 1,
   "metadata": {},
   "outputs": [],
   "source": [
    "from __future__ import print_function, division\n",
    "\n",
    "import torch\n",
    "import torch.nn as nn\n",
    "import torch.nn.functional as F\n",
    "import torch.optim as optim\n",
    "from torch.optim import lr_scheduler\n",
    "import numpy as np\n",
    "import torchvision\n",
    "from torchvision import datasets, models, transforms\n",
    "from pytorch_model_summary import summary\n",
    "import time\n",
    "import os\n",
    "import copy\n",
    "\n",
    "# plot figures\n",
    "%matplotlib inline\n",
    "import matplotlib\n",
    "import matplotlib.pyplot as plt\n",
    "plt.rcParams['axes.labelsize'] = 14\n",
    "plt.rcParams['xtick.labelsize'] = 12\n",
    "plt.rcParams['ytick.labelsize'] = 12"
   ]
  },
  {
   "cell_type": "markdown",
   "metadata": {},
   "source": [
    "## Dataset\n",
    "### > Tensorflow:\n",
    "\n",
    "First let's load in the data we've collected from the program. We will use kera's `ImageDataGenerator` to not only label the data from the directories but also to slightly augment the data with shifts, rotations, zooms, and mirroring. Mirroring will help to ensure that the data are not biased to a particular handedness.\n",
    "\n",
    "-------------\n",
    "### > PyTorch:\n",
    "\n",
    "Use torchvision and torch.utils.data packages for loading the data.\n",
    "Slightly augment the training data by with shifts, rotations, zooms, and mirroring.\n",
    "\n",
    "----- Data augmentation -----\n",
    "- rescale/resize                => transforms.Resize(300)\n",
    "- normalize                     => transforms.Normalize(mean=[0.5, 0.5, 0.5], std=[0.225, 0.225, 0.225]) OR transforms.Normalize(mean=[0.5], std=[0.225])\n",
    "\n",
    "                                =>ToTensor automatically convert all images between 0 - 1\n",
    "- rotations(10 degrees)         => transforms.RandomRotation(10)\n",
    "- shifts(x_position, y_postion) => transforms.RandomAffine(degrees=0, translate=(0.1 ,0.1))\n",
    "- zoom(0.2)                     => transforms.RandomAffine(degrees=0, scale=(.8, 1))\n",
    "- mirroring                     => RandomHorizontalFlip()"
   ]
  },
  {
   "cell_type": "code",
   "execution_count": 2,
   "metadata": {},
   "outputs": [],
   "source": [
    "DATA_PATH = './images/'\n",
    "BATCH_SIZE = 1\n",
    "NUM_WORKERS = 4\n",
    "\n",
    "data_transforms = {\n",
    "    'train': transforms.Compose([\n",
    "        transforms.Resize(300),\n",
    "        transforms.RandomRotation(10),\n",
    "        transforms.RandomAffine(degrees=0, translate=(0.1 ,0.1)),\n",
    "        transforms.RandomAffine(degrees=0, scale=(.8, 1)),\n",
    "        transforms.RandomHorizontalFlip(),\n",
    "        transforms.Grayscale(),\n",
    "        transforms.ToTensor()\n",
    "    ]),\n",
    "    'val': transforms.Compose([\n",
    "        transforms.Resize(300),\n",
    "        transforms.Grayscale(),\n",
    "        transforms.ToTensor()\n",
    "    ]),\n",
    "}\n",
    "\n",
    "image_datasets = {x: datasets.ImageFolder(os.path.join(DATA_PATH, x),\n",
    "                                          data_transforms[x])\n",
    "                  for x in ['train', 'val']}\n",
    "dataloaders = {x: torch.utils.data.DataLoader(image_datasets[x], batch_size=BATCH_SIZE,\n",
    "                                             shuffle=True, num_workers=NUM_WORKERS)\n",
    "              for x in ['train', 'val']}\n",
    "dataset_sizes = {x: len(image_datasets[x]) for x in ['train', 'val']}\n",
    "\n",
    "class_names = image_datasets['train'].classes"
   ]
  },
  {
   "cell_type": "code",
   "execution_count": 3,
   "metadata": {
    "tags": []
   },
   "outputs": [
    {
     "name": "stdout",
     "output_type": "stream",
     "text": [
      "Classes:  ['FIVE', 'FOUR', 'NONE', 'ONE', 'THREE', 'TWO']\n",
      "Number of train samples:  9081\n",
      "Number of test/validation samples:  3632\n",
      "# of training batches (steps per epoch):  9081\n",
      "# of validation batches (validation steps):  3632\n"
     ]
    }
   ],
   "source": [
    "print(\"Classes: \", class_names)\n",
    "print(\"Number of train samples: \", len(image_datasets['train']))\n",
    "print(\"Number of test/validation samples: \", len(image_datasets['val']))\n",
    "print(\"# of training batches (steps per epoch): \", len(dataloaders['train']))\n",
    "print(\"# of validation batches (validation steps): \", len(dataloaders['val']))"
   ]
  },
  {
   "cell_type": "markdown",
   "metadata": {},
   "source": [
    "To not bias the model towards any particular label we should have roughly equal examples of each"
   ]
  },
  {
   "cell_type": "code",
   "execution_count": 4,
   "metadata": {
    "tags": []
   },
   "outputs": [
    {
     "data": {
      "image/png": "[encoded data removed]",
      "text/plain": [
       "<Figure size 432x288 with 1 Axes>"
      ]
     },
     "metadata": {
      "needs_background": "light"
     },
     "output_type": "display_data"
    }
   ],
   "source": [
    "h1,_,_ = plt.hist(np.array(image_datasets['train'].targets), bins=range(0,7), alpha=0.8, color='blue', edgecolor='black')\n",
    "h2,_,_ = plt.hist(np.array(image_datasets['val'].targets),  bins=range(0,7), alpha=0.8, color='red', edgecolor='black')\n",
    "plt.ylabel('# of instances')\n",
    "plt.xlabel('Class');"
   ]
  },
  {
   "cell_type": "code",
   "execution_count": 5,
   "metadata": {
    "tags": []
   },
   "outputs": [
    {
     "name": "stdout",
     "output_type": "stream",
     "text": [
      "(1, 300, 300)\n",
      "(300, 300, 1)\n"
     ]
    },
    {
     "data": {
      "image/png": "[encoded data removed]",
      "text/plain": [
       "<Figure size 432x288 with 1 Axes>"
      ]
     },
     "metadata": {
      "needs_background": "light"
     },
     "output_type": "display_data"
    }
   ],
   "source": [
    "images, _ = next(iter(dataloaders['train']))\n",
    "print(images[0].numpy().shape)\n",
    "print(np.transpose(images[0].numpy()).shape)\n",
    "\n",
    "def imshow(img):\n",
    "    np_img = np.transpose(img.numpy())   \n",
    "    plt.imshow(np_img, cmap='gray')\n",
    "    plt.show()\n",
    "\n",
    "for i in range(1):\n",
    "    # get some random training images\n",
    "    dataiter = iter(dataloaders['train'])\n",
    "    images, classes = dataiter.next()\n",
    "    # show images\n",
    "    plt.title('Class:{}'.format(class_names[classes]))\n",
    "    imshow(torchvision.utils.make_grid(images))"
   ]
  },
  {
   "cell_type": "markdown",
   "metadata": {},
   "source": [
    "Next we'll do some quick checks to make sure our data are labeled correctly"
   ]
  },
  {
   "cell_type": "code",
   "execution_count": 4,
   "metadata": {},
   "outputs": [
    {
     "data": {
      "text/plain": [
       "True"
      ]
     },
     "execution_count": 4,
     "metadata": {},
     "output_type": "execute_result"
    }
   ],
   "source": [
    "# double check things aren't mixed up\n",
    "image_datasets['train'].class_to_idx == image_datasets['val'].class_to_idx"
   ]
  },
  {
   "cell_type": "markdown",
   "metadata": {},
   "source": [
    "## Convolutional Neural Net\n",
    "\n",
    "The data looks resonable so now we will define a CNN model to train and use within our application. The model below has not been thoroughly optimized but seems to perform well for our purposes.\n",
    "\n",
    "--------------\n",
    "\n",
    "\n",
    "- kernel_size =>  a 2-tuple specifying the width and height of the 2D convolution window. (A single value represents the same value for width and heigth)\n",
    "\n",
    "***For nn.Linear you would have to provide the number if in_features first, which can be calculated using your layers and input shape or just by printing out the shape of the activation in your forward method.\n",
    "\n"
   ]
  },
  {
   "cell_type": "code",
   "execution_count": null,
   "metadata": {},
   "outputs": [],
   "source": []
  },
  {
   "cell_type": "code",
   "execution_count": 4,
   "metadata": {
    "tags": []
   },
   "outputs": [],
   "source": [
    "# model with input_shape = (300, 300, 1)\n",
    "class CNN(nn.Module):\n",
    "    def __init__(self):\n",
    "        super(CNN, self).__init__()\n",
    "        #input_channels = 1, output channels = 6, kernel_size=(3,3)\n",
    "        self.conv1 = nn.Conv2d(1, 32, kernel_size=3)\n",
    "        self.pool1 = nn.MaxPool2d(2) # same as pool_size=(2,2)\n",
    "        self.conv2 = nn.Conv2d(32, 64, kernel_size=3)\n",
    "        self.pool2 = nn.MaxPool2d(2)\n",
    "        self.conv3 = nn.Conv2d(64, 128, kernel_size=3)\n",
    "        self.pool3 = nn.MaxPool2d(2)\n",
    "        self.conv4 = nn.Conv2d(128, 128, kernel_size=3)\n",
    "        self.pool4 = nn.MaxPool2d(2)\n",
    "\n",
    "        self.hidden= nn.Linear(128*16*16, 512) # The linear layer should therefore take 128*16*16=32768 input features\n",
    "        self.drop = nn.Dropout(0.3) # 30% probability of an element to be zeroed\n",
    "        self.out = nn.Linear(512, 6)\n",
    "\n",
    "    def forward(self, x):\n",
    "        x = F.relu(self.conv1(x))  # -> [batch_size, 32, 298, 298] => The 32 is given by the number of kernels your conv layer is using.\n",
    "                                                                    # Since you are not using any padding and leave the stride and dilation as 1,\n",
    "                                                                    # a kernel size of 3 will crop 1 pixel in each spatial dimension.\n",
    "                                                                    # Therefore you’ll end up with 32 activation maps of spatial size 298x298.\n",
    "        # print(x.shape)\n",
    "        x = self.pool1(x) # -> [batch_size, 32, 149, 149] => The max pooling layer will halve the spatial size\n",
    "        # print(x.shape)\n",
    "        x = F.relu(self.conv2(x))\n",
    "        x = self.pool2(x)\n",
    "        x = F.relu(self.conv3(x))\n",
    "        x = self.pool3(x)\n",
    "        x = F.relu(self.conv4(x))\n",
    "        x = self.pool4(x)\n",
    "        x = x.flatten(start_dim=1)\n",
    "        #x = torch.flatten(x, start_dim=1) # Flattens a contiguous range of dims in a tensor\n",
    "        #x = x.view(x.size(0), -1) # -> [batch_size, 128*16*16=32768]\n",
    "        x = F.relu(self.hidden(x)) # -> [batch_size, 512]\n",
    "        x = self.drop(x) # -> [batch_size, 512]\n",
    "        x = self.out(x)\n",
    "        x = F.softmax(x, dim=1) # -> [batch_size, 6]\n",
    "        return x\n",
    "\n",
    "model = CNN()"
   ]
  },
  {
   "cell_type": "code",
   "execution_count": 19,
   "metadata": {},
   "outputs": [
    {
     "data": {
      "text/plain": [
       "' **********------ FOR TESTING ------**********'"
      ]
     },
     "execution_count": 19,
     "metadata": {},
     "output_type": "execute_result"
    }
   ],
   "source": [
    "\"\"\" **********------ FOR TESTING ------**********\"\"\"\n",
    "# batch_size, C, H, W = 1, 1, 300, 300\n",
    "# x = torch.randn(batch_size, C, H, W)\n",
    "# output = model(x)"
   ]
  },
  {
   "cell_type": "code",
   "execution_count": 6,
   "metadata": {
    "tags": []
   },
   "outputs": [
    {
     "name": "stdout",
     "output_type": "stream",
     "text": [
      "-------------------------------------------------------------------------\n",
      "      Layer (type)          Output Shape         Param #     Tr. Param #\n",
      "=========================================================================\n",
      "          Conv2d-1     [1, 32, 298, 298]             320             320\n",
      "       MaxPool2d-2     [1, 32, 149, 149]               0               0\n",
      "          Conv2d-3     [1, 64, 147, 147]          18,496          18,496\n",
      "       MaxPool2d-4       [1, 64, 73, 73]               0               0\n",
      "          Conv2d-5      [1, 128, 71, 71]          73,856          73,856\n",
      "       MaxPool2d-6      [1, 128, 35, 35]               0               0\n",
      "          Conv2d-7      [1, 128, 33, 33]         147,584         147,584\n",
      "       MaxPool2d-8      [1, 128, 16, 16]               0               0\n",
      "          Linear-9              [1, 512]      16,777,728      16,777,728\n",
      "        Dropout-10              [1, 512]               0               0\n",
      "         Linear-11                [1, 6]           3,078           3,078\n",
      "=========================================================================\n",
      "Total params: 17,021,062\n",
      "Trainable params: 17,021,062\n",
      "Non-trainable params: 0\n",
      "-------------------------------------------------------------------------\n",
      "\n",
      "\n",
      "===================================== Hierarchical Summary =====================================\n",
      "\n",
      "CNN(\n",
      "  (conv1): Conv2d(1, 32, kernel_size=(3, 3), stride=(1, 1)), 320 params\n",
      "  (pool1): MaxPool2d(kernel_size=2, stride=2, padding=0, dilation=1, ceil_mode=False), 0 params\n",
      "  (conv2): Conv2d(32, 64, kernel_size=(3, 3), stride=(1, 1)), 18,496 params\n",
      "  (pool2): MaxPool2d(kernel_size=2, stride=2, padding=0, dilation=1, ceil_mode=False), 0 params\n",
      "  (conv3): Conv2d(64, 128, kernel_size=(3, 3), stride=(1, 1)), 73,856 params\n",
      "  (pool3): MaxPool2d(kernel_size=2, stride=2, padding=0, dilation=1, ceil_mode=False), 0 params\n",
      "  (conv4): Conv2d(128, 128, kernel_size=(3, 3), stride=(1, 1)), 147,584 params\n",
      "  (pool4): MaxPool2d(kernel_size=2, stride=2, padding=0, dilation=1, ceil_mode=False), 0 params\n",
      "  (hidden): Linear(in_features=32768, out_features=512, bias=True), 16,777,728 params\n",
      "  (drop): Dropout(p=0.3, inplace=False), 0 params\n",
      "  (out): Linear(in_features=512, out_features=6, bias=True), 3,078 params\n",
      "), 17,021,062 params\n",
      "\n",
      "\n",
      "================================================================================================\n",
      "\n"
     ]
    }
   ],
   "source": [
    "print(summary(model, torch.zeros((1, 1, 300, 300)), show_input=False, show_hierarchical=True))"
   ]
  },
  {
   "cell_type": "markdown",
   "metadata": {},
   "source": [
    "Construct an loss function, and an optimizer. "
   ]
  },
  {
   "cell_type": "code",
   "execution_count": 5,
   "metadata": {},
   "outputs": [],
   "source": [
    "criterion = nn.CrossEntropyLoss()\n",
    "\n",
    "optimizer = optim.Adadelta(model.parameters(), lr=0.001)\n",
    "\n",
    "# Construct learning rate scheduler\n",
    "lr_scheduler = torch.optim.lr_scheduler.StepLR(optimizer, step_size=3, gamma=0.1)\n"
   ]
  },
  {
   "cell_type": "markdown",
   "metadata": {},
   "source": [
    "## Training\n",
    "\n",
    "-  Training will save the best model.\n",
    "\n",
    "- We are not doing any hyper-parameter optimization so we will not define a separate testing and validation set. We can however evaluate our model further in real time within the application.\n"
   ]
  },
  {
   "cell_type": "code",
   "execution_count": 6,
   "metadata": {},
   "outputs": [
    {
     "data": {
      "text/plain": [
       "CNN(\n",
       "  (conv1): Conv2d(1, 32, kernel_size=(3, 3), stride=(1, 1))\n",
       "  (pool1): MaxPool2d(kernel_size=2, stride=2, padding=0, dilation=1, ceil_mode=False)\n",
       "  (conv2): Conv2d(32, 64, kernel_size=(3, 3), stride=(1, 1))\n",
       "  (pool2): MaxPool2d(kernel_size=2, stride=2, padding=0, dilation=1, ceil_mode=False)\n",
       "  (conv3): Conv2d(64, 128, kernel_size=(3, 3), stride=(1, 1))\n",
       "  (pool3): MaxPool2d(kernel_size=2, stride=2, padding=0, dilation=1, ceil_mode=False)\n",
       "  (conv4): Conv2d(128, 128, kernel_size=(3, 3), stride=(1, 1))\n",
       "  (pool4): MaxPool2d(kernel_size=2, stride=2, padding=0, dilation=1, ceil_mode=False)\n",
       "  (hidden): Linear(in_features=32768, out_features=512, bias=True)\n",
       "  (drop): Dropout(p=0.3, inplace=False)\n",
       "  (out): Linear(in_features=512, out_features=6, bias=True)\n",
       ")"
      ]
     },
     "execution_count": 6,
     "metadata": {},
     "output_type": "execute_result"
    }
   ],
   "source": [
    "device = torch.device(\"cuda:0\" if torch.cuda.is_available() else \"cpu\")\n",
    "model.to(device)"
   ]
  },
  {
   "cell_type": "code",
   "execution_count": 7,
   "metadata": {},
   "outputs": [],
   "source": [
    "def train_model(model, criterion, optimizer, scheduler, num_epochs=25):\n",
    "    training_start_time = time.time()\n",
    " \n",
    "    loss_history = dict()\n",
    "    train_loss_history = []    \n",
    "    val_loss_history = []\n",
    "    \n",
    "    acc_history = dict()\n",
    "    train_acc_history = []    \n",
    "    val_acc_history = []\n",
    "\n",
    "    best_model_wts = copy.deepcopy(model.state_dict())\n",
    "    best_acc = 0.0\n",
    "\n",
    "    for epoch in range(num_epochs):\n",
    "        print('Epoch {}/{}'.format(epoch + 1, num_epochs))\n",
    "        epoch_start_time = time.time()\n",
    "        \n",
    "        # Each epoch has a training and validation phase\n",
    "        for phase in ['train', 'val']:\n",
    "            if phase == 'train':\n",
    "                model.train()  # Set model to training mode\n",
    "            else:\n",
    "                model.eval()   # Set model to evaluate mode\n",
    "\n",
    "            running_loss = 0.0\n",
    "            running_corrects = 0\n",
    "\n",
    "            # Iterate over data.\n",
    "            for inputs, labels in dataloaders[phase]:\n",
    "                inputs = inputs.to(device)\n",
    "                labels = labels.to(device)\n",
    "\n",
    "                # zero the parameter gradients\n",
    "                optimizer.zero_grad()\n",
    "\n",
    "                # forward\n",
    "                # track history if only in train\n",
    "                with torch.set_grad_enabled(phase == 'train'):\n",
    "                    outputs = model(inputs)\n",
    "                    _, preds = torch.max(outputs, 1)\n",
    "                    loss = criterion(outputs, labels)\n",
    "\n",
    "                    # backward + optimize only if in training phase\n",
    "                    if phase == 'train':\n",
    "                        loss.backward()\n",
    "                        optimizer.step()\n",
    "\n",
    "                # statistics\n",
    "                running_loss += loss.item() * inputs.size(0)\n",
    "                running_corrects += torch.sum(preds == labels.data)\n",
    "#             if phase == 'train':\n",
    "#                 scheduler.step()\n",
    "\n",
    "            epoch_loss = running_loss / dataset_sizes[phase]\n",
    "            epoch_acc = running_corrects.double() / dataset_sizes[phase]\n",
    "\n",
    "            print('>>> {:5} -- Loss: {:.4f} | Acc: {:.4f}'.format(phase, epoch_loss, epoch_acc))\n",
    "\n",
    "            if phase == 'train':\n",
    "                train_loss_history.append(epoch_loss)\n",
    "                train_acc_history.append(epoch_acc)\n",
    "            # deep copy the model\n",
    "            if phase == 'val' and epoch_acc > best_acc:\n",
    "                best_acc = epoch_acc\n",
    "                best_model_wts = copy.deepcopy(model.state_dict())\n",
    "            if phase == 'val':\n",
    "                val_loss_history.append(epoch_loss)\n",
    "                val_acc_history.append(epoch_acc)\n",
    "\n",
    "        epoch_time_elapsed = time.time() - epoch_start_time\n",
    "        print('-' * 40, '{:.0f}m {:.0f}s'.format(epoch_time_elapsed // 60, epoch_time_elapsed % 60))\n",
    "\n",
    "    total_time_elapsed = time.time() - training_start_time\n",
    "    print('Training complete in {:.0f}m {:.0f}s'.format(total_time_elapsed // 60, total_time_elapsed % 60))\n",
    "    print('Best val Acc: {:4f}'.format(best_acc))\n",
    "\n",
    "    loss_history['train'] = train_loss_history\n",
    "    loss_history['val'] = val_loss_history\n",
    "    \n",
    "    acc_history['train'] = train_acc_history\n",
    "    acc_history['val'] = val_acc_history\n",
    "    \n",
    "    # load best model weights\n",
    "    model.load_state_dict(best_model_wts)\n",
    "    return model, acc_history, loss_history"
   ]
  },
  {
   "cell_type": "code",
   "execution_count": 8,
   "metadata": {},
   "outputs": [
    {
     "name": "stdout",
     "output_type": "stream",
     "text": [
      "Epoch 1/80\n",
      ">>> train -- Loss: 1.7917 | Acc: 0.1673\n",
      ">>> val   -- Loss: 1.7914 | Acc: 0.1663\n",
      "---------------------------------------- 1m 37s\n",
      "Epoch 2/80\n",
      ">>> train -- Loss: 1.7913 | Acc: 0.1767\n",
      ">>> val   -- Loss: 1.7908 | Acc: 0.1663\n",
      "---------------------------------------- 1m 34s\n",
      "Epoch 3/80\n",
      ">>> train -- Loss: 1.7905 | Acc: 0.1686\n",
      ">>> val   -- Loss: 1.7894 | Acc: 0.1663\n",
      "---------------------------------------- 1m 34s\n",
      "Epoch 4/80\n",
      ">>> train -- Loss: 1.7884 | Acc: 0.1806\n",
      ">>> val   -- Loss: 1.7846 | Acc: 0.1666\n",
      "---------------------------------------- 1m 34s\n",
      "Epoch 5/80\n",
      ">>> train -- Loss: 1.7772 | Acc: 0.2246\n",
      ">>> val   -- Loss: 1.7555 | Acc: 0.2574\n",
      "---------------------------------------- 1m 35s\n",
      "Epoch 6/80\n",
      ">>> train -- Loss: 1.7099 | Acc: 0.3710\n",
      ">>> val   -- Loss: 1.6309 | Acc: 0.4573\n",
      "---------------------------------------- 1m 34s\n",
      "Epoch 7/80\n",
      ">>> train -- Loss: 1.6087 | Acc: 0.4531\n",
      ">>> val   -- Loss: 1.5397 | Acc: 0.5476\n",
      "---------------------------------------- 1m 33s\n",
      "Epoch 8/80\n",
      ">>> train -- Loss: 1.5478 | Acc: 0.5052\n",
      ">>> val   -- Loss: 1.4663 | Acc: 0.6107\n",
      "---------------------------------------- 1m 33s\n",
      "Epoch 9/80\n",
      ">>> train -- Loss: 1.5116 | Acc: 0.5428\n",
      ">>> val   -- Loss: 1.4409 | Acc: 0.6244\n",
      "---------------------------------------- 1m 33s\n",
      "Epoch 10/80\n",
      ">>> train -- Loss: 1.4868 | Acc: 0.5647\n",
      ">>> val   -- Loss: 1.4161 | Acc: 0.6423\n",
      "---------------------------------------- 1m 33s\n",
      "Epoch 11/80\n",
      ">>> train -- Loss: 1.4701 | Acc: 0.5844\n",
      ">>> val   -- Loss: 1.4125 | Acc: 0.6396\n",
      "---------------------------------------- 1m 33s\n",
      "Epoch 12/80\n",
      ">>> train -- Loss: 1.4468 | Acc: 0.6053\n",
      ">>> val   -- Loss: 1.3811 | Acc: 0.6732\n",
      "---------------------------------------- 1m 32s\n",
      "Epoch 13/80\n",
      ">>> train -- Loss: 1.4340 | Acc: 0.6167\n",
      ">>> val   -- Loss: 1.3629 | Acc: 0.6936\n",
      "---------------------------------------- 1m 33s\n",
      "Epoch 14/80\n",
      ">>> train -- Loss: 1.4203 | Acc: 0.6287\n",
      ">>> val   -- Loss: 1.3464 | Acc: 0.7062\n",
      "---------------------------------------- 1m 33s\n",
      "Epoch 15/80\n",
      ">>> train -- Loss: 1.4115 | Acc: 0.6399\n",
      ">>> val   -- Loss: 1.3323 | Acc: 0.7181\n",
      "---------------------------------------- 1m 32s\n",
      "Epoch 16/80\n",
      ">>> train -- Loss: 1.3944 | Acc: 0.6553\n",
      ">>> val   -- Loss: 1.3193 | Acc: 0.7296\n",
      "---------------------------------------- 1m 32s\n",
      "Epoch 17/80\n",
      ">>> train -- Loss: 1.3854 | Acc: 0.6662\n",
      ">>> val   -- Loss: 1.3244 | Acc: 0.7241\n",
      "---------------------------------------- 1m 33s\n",
      "Epoch 18/80\n",
      ">>> train -- Loss: 1.3741 | Acc: 0.6766\n",
      ">>> val   -- Loss: 1.2960 | Acc: 0.7536\n",
      "---------------------------------------- 1m 32s\n",
      "Epoch 19/80\n",
      ">>> train -- Loss: 1.3693 | Acc: 0.6802\n",
      ">>> val   -- Loss: 1.2971 | Acc: 0.7511\n",
      "---------------------------------------- 1m 32s\n",
      "Epoch 20/80\n",
      ">>> train -- Loss: 1.3602 | Acc: 0.6898\n",
      ">>> val   -- Loss: 1.2705 | Acc: 0.7767\n",
      "---------------------------------------- 1m 33s\n",
      "Epoch 21/80\n",
      ">>> train -- Loss: 1.3499 | Acc: 0.7021\n",
      ">>> val   -- Loss: 1.2779 | Acc: 0.7704\n",
      "---------------------------------------- 1m 32s\n",
      "Epoch 22/80\n",
      ">>> train -- Loss: 1.3494 | Acc: 0.6985\n",
      ">>> val   -- Loss: 1.2684 | Acc: 0.7792\n",
      "---------------------------------------- 1m 32s\n",
      "Epoch 23/80\n",
      ">>> train -- Loss: 1.3349 | Acc: 0.7148\n",
      ">>> val   -- Loss: 1.2467 | Acc: 0.8040\n",
      "---------------------------------------- 1m 32s\n",
      "Epoch 24/80\n",
      ">>> train -- Loss: 1.3209 | Acc: 0.7308\n",
      ">>> val   -- Loss: 1.2327 | Acc: 0.8133\n",
      "---------------------------------------- 1m 33s\n",
      "Epoch 25/80\n",
      ">>> train -- Loss: 1.3198 | Acc: 0.7301\n",
      ">>> val   -- Loss: 1.2308 | Acc: 0.8191\n",
      "---------------------------------------- 1m 33s\n",
      "Epoch 26/80\n",
      ">>> train -- Loss: 1.3169 | Acc: 0.7308\n",
      ">>> val   -- Loss: 1.2160 | Acc: 0.8296\n",
      "---------------------------------------- 1m 32s\n",
      "Epoch 27/80\n",
      ">>> train -- Loss: 1.3126 | Acc: 0.7335\n",
      ">>> val   -- Loss: 1.2222 | Acc: 0.8252\n",
      "---------------------------------------- 1m 33s\n",
      "Epoch 28/80\n",
      ">>> train -- Loss: 1.3031 | Acc: 0.7454\n",
      ">>> val   -- Loss: 1.2169 | Acc: 0.8318\n",
      "---------------------------------------- 1m 32s\n",
      "Epoch 29/80\n",
      ">>> train -- Loss: 1.2919 | Acc: 0.7541\n",
      ">>> val   -- Loss: 1.1997 | Acc: 0.8464\n",
      "---------------------------------------- 1m 32s\n",
      "Epoch 30/80\n",
      ">>> train -- Loss: 1.2899 | Acc: 0.7603\n",
      ">>> val   -- Loss: 1.2005 | Acc: 0.8453\n",
      "---------------------------------------- 1m 32s\n",
      "Epoch 31/80\n",
      ">>> train -- Loss: 1.2827 | Acc: 0.7662\n",
      ">>> val   -- Loss: 1.1985 | Acc: 0.8453\n",
      "---------------------------------------- 1m 30s\n",
      "Epoch 32/80\n",
      ">>> train -- Loss: 1.2721 | Acc: 0.7780\n",
      ">>> val   -- Loss: 1.2005 | Acc: 0.8480\n",
      "---------------------------------------- 1m 31s\n",
      "Epoch 33/80\n",
      ">>> train -- Loss: 1.2715 | Acc: 0.7771\n",
      ">>> val   -- Loss: 1.1937 | Acc: 0.8544\n",
      "---------------------------------------- 1m 31s\n",
      "Epoch 34/80\n",
      ">>> train -- Loss: 1.2625 | Acc: 0.7867\n",
      ">>> val   -- Loss: 1.1815 | Acc: 0.8654\n",
      "---------------------------------------- 1m 31s\n",
      "Epoch 35/80\n",
      ">>> train -- Loss: 1.2626 | Acc: 0.7875\n",
      ">>> val   -- Loss: 1.1796 | Acc: 0.8678\n",
      "---------------------------------------- 1m 31s\n",
      "Epoch 36/80\n",
      ">>> train -- Loss: 1.2548 | Acc: 0.7952\n",
      ">>> val   -- Loss: 1.1767 | Acc: 0.8684\n",
      "---------------------------------------- 1m 31s\n",
      "Epoch 37/80\n",
      ">>> train -- Loss: 1.2551 | Acc: 0.7950\n",
      ">>> val   -- Loss: 1.1706 | Acc: 0.8725\n",
      "---------------------------------------- 1m 31s\n",
      "Epoch 38/80\n",
      ">>> train -- Loss: 1.2532 | Acc: 0.7932\n",
      ">>> val   -- Loss: 1.1675 | Acc: 0.8791\n",
      "---------------------------------------- 1m 31s\n",
      "Epoch 39/80\n",
      ">>> train -- Loss: 1.2463 | Acc: 0.8035\n",
      ">>> val   -- Loss: 1.1724 | Acc: 0.8739\n",
      "---------------------------------------- 1m 31s\n",
      "Epoch 40/80\n",
      ">>> train -- Loss: 1.2491 | Acc: 0.7987\n",
      ">>> val   -- Loss: 1.1670 | Acc: 0.8780\n",
      "---------------------------------------- 1m 31s\n",
      "Epoch 41/80\n",
      ">>> train -- Loss: 1.2391 | Acc: 0.8081\n",
      ">>> val   -- Loss: 1.1685 | Acc: 0.8769\n",
      "---------------------------------------- 1m 32s\n",
      "Epoch 42/80\n",
      ">>> train -- Loss: 1.2322 | Acc: 0.8162\n",
      ">>> val   -- Loss: 1.1685 | Acc: 0.8783\n",
      "---------------------------------------- 1m 31s\n",
      "Epoch 43/80\n",
      ">>> train -- Loss: 1.2262 | Acc: 0.8245\n",
      ">>> val   -- Loss: 1.1576 | Acc: 0.8868\n",
      "---------------------------------------- 1m 32s\n",
      "Epoch 44/80\n",
      ">>> train -- Loss: 1.2329 | Acc: 0.8147\n",
      ">>> val   -- Loss: 1.1555 | Acc: 0.8921\n",
      "---------------------------------------- 1m 32s\n",
      "Epoch 45/80\n",
      ">>> train -- Loss: 1.2294 | Acc: 0.8172\n",
      ">>> val   -- Loss: 1.1530 | Acc: 0.8912\n",
      "---------------------------------------- 1m 31s\n",
      "Epoch 46/80\n",
      ">>> train -- Loss: 1.2233 | Acc: 0.8242\n",
      ">>> val   -- Loss: 1.1565 | Acc: 0.8874\n",
      "---------------------------------------- 1m 31s\n",
      "Epoch 47/80\n",
      ">>> train -- Loss: 1.2247 | Acc: 0.8226\n",
      ">>> val   -- Loss: 1.1492 | Acc: 0.8959\n",
      "---------------------------------------- 1m 31s\n",
      "Epoch 48/80\n",
      ">>> train -- Loss: 1.2236 | Acc: 0.8238\n",
      ">>> val   -- Loss: 1.1525 | Acc: 0.8937\n",
      "---------------------------------------- 1m 31s\n",
      "Epoch 49/80\n",
      ">>> train -- Loss: 1.2143 | Acc: 0.8359\n",
      ">>> val   -- Loss: 1.1536 | Acc: 0.8899\n",
      "---------------------------------------- 1m 30s\n",
      "Epoch 50/80\n",
      ">>> train -- Loss: 1.2137 | Acc: 0.8348\n",
      ">>> val   -- Loss: 1.1378 | Acc: 0.9097\n",
      "---------------------------------------- 1m 30s\n",
      "Epoch 51/80\n",
      ">>> train -- Loss: 1.2084 | Acc: 0.8386\n",
      ">>> val   -- Loss: 1.1485 | Acc: 0.8987\n",
      "---------------------------------------- 1m 30s\n",
      "Epoch 52/80\n",
      ">>> train -- Loss: 1.2123 | Acc: 0.8350\n",
      ">>> val   -- Loss: 1.1456 | Acc: 0.8995\n",
      "---------------------------------------- 1m 30s\n",
      "Epoch 53/80\n",
      ">>> train -- Loss: 1.2067 | Acc: 0.8429\n",
      ">>> val   -- Loss: 1.1406 | Acc: 0.9050\n",
      "---------------------------------------- 1m 30s\n",
      "Epoch 54/80\n",
      ">>> train -- Loss: 1.1993 | Acc: 0.8485\n",
      ">>> val   -- Loss: 1.1460 | Acc: 0.9001\n",
      "---------------------------------------- 1m 30s\n",
      "Epoch 55/80\n",
      ">>> train -- Loss: 1.1968 | Acc: 0.8510\n",
      ">>> val   -- Loss: 1.1342 | Acc: 0.9133\n",
      "---------------------------------------- 1m 30s\n",
      "Epoch 56/80\n",
      ">>> train -- Loss: 1.1996 | Acc: 0.8492\n",
      ">>> val   -- Loss: 1.1386 | Acc: 0.9067\n",
      "---------------------------------------- 1m 30s\n",
      "Epoch 57/80\n",
      ">>> train -- Loss: 1.1989 | Acc: 0.8492\n",
      ">>> val   -- Loss: 1.1347 | Acc: 0.9108\n",
      "---------------------------------------- 1m 31s\n",
      "Epoch 58/80\n",
      ">>> train -- Loss: 1.1918 | Acc: 0.8549\n",
      ">>> val   -- Loss: 1.1327 | Acc: 0.9141\n",
      "---------------------------------------- 1m 32s\n",
      "Epoch 59/80\n",
      ">>> train -- Loss: 1.1941 | Acc: 0.8533\n",
      ">>> val   -- Loss: 1.1357 | Acc: 0.9108\n",
      "---------------------------------------- 1m 30s\n",
      "Epoch 60/80\n",
      ">>> train -- Loss: 1.1907 | Acc: 0.8559\n",
      ">>> val   -- Loss: 1.1334 | Acc: 0.9124\n",
      "---------------------------------------- 1m 30s\n",
      "Epoch 61/80\n",
      ">>> train -- Loss: 1.1863 | Acc: 0.8626\n",
      ">>> val   -- Loss: 1.1316 | Acc: 0.9133\n",
      "---------------------------------------- 1m 31s\n",
      "Epoch 62/80\n",
      ">>> train -- Loss: 1.1885 | Acc: 0.8575\n",
      ">>> val   -- Loss: 1.1293 | Acc: 0.9155\n",
      "---------------------------------------- 1m 30s\n",
      "Epoch 63/80\n",
      ">>> train -- Loss: 1.1851 | Acc: 0.8640\n",
      ">>> val   -- Loss: 1.1376 | Acc: 0.9086\n",
      "---------------------------------------- 1m 30s\n",
      "Epoch 64/80\n",
      ">>> train -- Loss: 1.1814 | Acc: 0.8674\n",
      ">>> val   -- Loss: 1.1307 | Acc: 0.9133\n",
      "---------------------------------------- 1m 30s\n",
      "Epoch 65/80\n",
      ">>> train -- Loss: 1.1821 | Acc: 0.8659\n",
      ">>> val   -- Loss: 1.1246 | Acc: 0.9193\n",
      "---------------------------------------- 1m 31s\n",
      "Epoch 66/80\n",
      ">>> train -- Loss: 1.1777 | Acc: 0.8712\n",
      ">>> val   -- Loss: 1.1243 | Acc: 0.9215\n",
      "---------------------------------------- 1m 31s\n",
      "Epoch 67/80\n",
      ">>> train -- Loss: 1.1795 | Acc: 0.8671\n",
      ">>> val   -- Loss: 1.1269 | Acc: 0.9174\n",
      "---------------------------------------- 1m 30s\n",
      "Epoch 68/80\n",
      ">>> train -- Loss: 1.1783 | Acc: 0.8687\n",
      ">>> val   -- Loss: 1.1233 | Acc: 0.9207\n",
      "---------------------------------------- 1m 30s\n",
      "Epoch 69/80\n",
      ">>> train -- Loss: 1.1738 | Acc: 0.8755\n",
      ">>> val   -- Loss: 1.1226 | Acc: 0.9229\n",
      "---------------------------------------- 1m 30s\n",
      "Epoch 70/80\n",
      ">>> train -- Loss: 1.1699 | Acc: 0.8772\n",
      ">>> val   -- Loss: 1.1195 | Acc: 0.9248\n",
      "---------------------------------------- 1m 30s\n",
      "Epoch 71/80\n",
      ">>> train -- Loss: 1.1675 | Acc: 0.8812\n",
      ">>> val   -- Loss: 1.1254 | Acc: 0.9199\n",
      "---------------------------------------- 1m 30s\n",
      "Epoch 72/80\n",
      ">>> train -- Loss: 1.1694 | Acc: 0.8778\n",
      ">>> val   -- Loss: 1.1196 | Acc: 0.9259\n",
      "---------------------------------------- 1m 30s\n",
      "Epoch 73/80\n",
      ">>> train -- Loss: 1.1680 | Acc: 0.8788\n",
      ">>> val   -- Loss: 1.1219 | Acc: 0.9224\n",
      "---------------------------------------- 1m 30s\n",
      "Epoch 74/80\n",
      ">>> train -- Loss: 1.1663 | Acc: 0.8800\n",
      ">>> val   -- Loss: 1.1228 | Acc: 0.9226\n",
      "---------------------------------------- 1m 30s\n",
      "Epoch 75/80\n",
      ">>> train -- Loss: 1.1653 | Acc: 0.8834\n",
      ">>> val   -- Loss: 1.1250 | Acc: 0.9188\n",
      "---------------------------------------- 1m 30s\n",
      "Epoch 76/80\n",
      ">>> train -- Loss: 1.1695 | Acc: 0.8783\n",
      ">>> val   -- Loss: 1.1213 | Acc: 0.9229\n",
      "---------------------------------------- 1m 30s\n",
      "Epoch 77/80\n",
      ">>> train -- Loss: 1.1634 | Acc: 0.8833\n",
      ">>> val   -- Loss: 1.1175 | Acc: 0.9295\n",
      "---------------------------------------- 1m 30s\n",
      "Epoch 78/80\n",
      ">>> train -- Loss: 1.1644 | Acc: 0.8821\n",
      ">>> val   -- Loss: 1.1205 | Acc: 0.9229\n",
      "---------------------------------------- 1m 30s\n",
      "Epoch 79/80\n",
      ">>> train -- Loss: 1.1573 | Acc: 0.8913\n",
      ">>> val   -- Loss: 1.1215 | Acc: 0.9235\n",
      "---------------------------------------- 1m 30s\n",
      "Epoch 80/80\n",
      ">>> train -- Loss: 1.1641 | Acc: 0.8822\n",
      ">>> val   -- Loss: 1.1189 | Acc: 0.9265\n",
      "---------------------------------------- 1m 30s\n",
      "Training complete in 121m 56s\n",
      "Best val Acc: 0.929515\n"
     ]
    }
   ],
   "source": [
    "# Test #7\n",
    "NUM_EPOCHS = 80\n",
    "PATH = './model_test8.pth'\n",
    "best_model, acc_history, loss_history = train_model(model, criterion, optimizer, lr_scheduler, num_epochs=NUM_EPOCHS)\n",
    "torch.save(best_model.state_dict(), PATH)"
   ]
  },
  {
   "cell_type": "code",
   "execution_count": 17,
   "metadata": {},
   "outputs": [
    {
     "data": {
      "image/png": "[encoded data removed]",
      "text/plain": [
       "<Figure size 1152x432 with 2 Axes>"
      ]
     },
     "metadata": {
      "needs_background": "light"
     },
     "output_type": "display_data"
    }
   ],
   "source": [
    "train_loss_hist = []\n",
    "val_loss_hist = []\n",
    "train_acc_hist = []\n",
    "val_acc_hist = []\n",
    "\n",
    "train_loss_hist = [h for h in loss_history['train']]\n",
    "val_loss_hist = [h for h in loss_history['val']]\n",
    "train_acc_hist = [h.cpu().numpy() for h in acc_history['train']]\n",
    "val_acc_hist = [h.cpu().numpy() for h in acc_history['val']]\n",
    "\n",
    "plt.figure(figsize=(16,6))\n",
    "plt.subplot(1,2,1)\n",
    "plt.title(\"Loss vs. Number of Epochs\")\n",
    "plt.xlabel(\"# of Epochs\")\n",
    "plt.ylabel(\"Loss\")\n",
    "plt.plot(range(NUM_EPOCHS), train_loss_hist,'r-', label=\"train\")\n",
    "plt.plot(range(NUM_EPOCHS), val_loss_hist,'b-', label=\"test\")\n",
    "plt.ylim((0,2))\n",
    "plt.xticks(np.arange(0, NUM_EPOCHS+1, 5.0))\n",
    "plt.legend(prop={'size': 20})\n",
    "plt.subplot(1,2,2)\n",
    "plt.title(\"Accuracy vs. Number of Epochs\")\n",
    "plt.xlabel(\"# of Epochs\")\n",
    "plt.ylabel(\"Accuracy\")\n",
    "plt.plot(range(NUM_EPOCHS), train_acc_hist,'r-', label=\"train\")\n",
    "plt.plot(range(NUM_EPOCHS), val_acc_hist,'b-', label=\"test\")\n",
    "plt.ylim((0,1.))\n",
    "plt.xticks(np.arange(0, NUM_EPOCHS+1, 5.0))\n",
    "plt.yticks(np.arange(0, 1.1, 0.1))\n",
    "plt.legend(prop={'size': 20})\n",
    "plt.show()"
   ]
  },
  {
   "cell_type": "code",
   "execution_count": null,
   "metadata": {},
   "outputs": [],
   "source": []
  },
  {
   "cell_type": "markdown",
   "metadata": {},
   "source": [
    "Since there is dropout being applied in the network and additional (random) augmentation being applied to the training set it is not surprising that the validation set is out-performing the training set. Nonetheless, it seems that in either case we're able to achieve near perfect ( > 99% ) accuracy.\n",
    "\n",
    "This model is able to hence surpass human performance when the human is severely concussed or inebriated."
   ]
  },
  {
   "cell_type": "markdown",
   "metadata": {},
   "source": [
    "## Performance and Error Analysis\n",
    "\n",
    "Our model is performing so well that there are not many cases where the model has failed for us to understand our model better. To try and probe a bit deeper I will expand the testing set and apply some augmentation."
   ]
  },
  {
   "cell_type": "code",
   "execution_count": 14,
   "metadata": {},
   "outputs": [
    {
     "name": "stdout",
     "output_type": "stream",
     "text": [
      "Found 3632 images belonging to 6 classes.\n"
     ]
    }
   ],
   "source": [
    "test_datagen  = ImageDataGenerator( rescale=1./255, \n",
    "                                    rotation_range=10.,\n",
    "                                    width_shift_range=0.1,\n",
    "                                    height_shift_range=0.1,\n",
    "                                    zoom_range=0.2,\n",
    "                                    horizontal_flip=True\n",
    "                                  )\n",
    "\n",
    "test_gen = test_datagen.flow_from_directory(\n",
    "        'images/test/',\n",
    "        target_size=(300, 300),\n",
    "        color_mode='grayscale',\n",
    "        batch_size=nbatch,\n",
    "        classes=['NONE','ONE','TWO','THREE','FOUR','FIVE'],\n",
    "        class_mode='categorical'\n",
    "    )"
   ]
  },
  {
   "cell_type": "code",
   "execution_count": 23,
   "metadata": {},
   "outputs": [
    {
     "name": "stdout",
     "output_type": "stream",
     "text": [
      "Testing Accuracy = 99.25%\n"
     ]
    }
   ],
   "source": [
    "X_test, y_test = [], []\n",
    "for ibatch, (X, y) in enumerate(test_gen):\n",
    "    X_test.append(X)\n",
    "    y_test.append(y)\n",
    "    ibatch += 1\n",
    "    if (ibatch == 5*28): break\n",
    "\n",
    "# Concatenate everything together\n",
    "X_test = np.concatenate(X_test)\n",
    "y_test = np.concatenate(y_test)\n",
    "y_test = np.int32([np.argmax(r) for r in y_test])\n",
    "\n",
    "# Get the predictions from the model and calculate the accuracy\n",
    "y_pred = np.int32([np.argmax(r) for r in model.predict(X_test)])\n",
    "match = (y_test == y_pred)\n",
    "print('Testing Accuracy = %.2f%%' % (np.sum(match)*100/match.shape[0]))"
   ]
  },
  {
   "cell_type": "code",
   "execution_count": 24,
   "metadata": {},
   "outputs": [
    {
     "name": "stdout",
     "output_type": "stream",
     "text": [
      "131 examples of bad predictions\n"
     ]
    }
   ],
   "source": [
    "nomatch = (y_test != y_pred)\n",
    "bad_pred = y_pred[nomatch]\n",
    "bad_true = y_test[nomatch]\n",
    "bad_img = X_test[nomatch]\n",
    "print('%d examples of bad predictions' % bad_pred.size)"
   ]
  },
  {
   "cell_type": "code",
   "execution_count": 34,
   "metadata": {},
   "outputs": [
    {
     "data": {
      "image/png": "[encoded data removed]",
      "text/plain": [
       "<matplotlib.figure.Figure at 0x7f5294ece780>"
      ]
     },
     "metadata": {},
     "output_type": "display_data"
    }
   ],
   "source": [
    "plt.figure(figsize=(15,15))\n",
    "for i in range(min(bad_true.size,25)):\n",
    "    plt.subplot(5,5,i+1)\n",
    "    i+=75\n",
    "    plt.title('Pred: %d (Truth: %d)' % (bad_pred[i], bad_true[i]))\n",
    "    plt.axis('off')\n",
    "    plt.imshow(bad_img[i][:,:,0], cmap='gray')"
   ]
  },
  {
   "cell_type": "markdown",
   "metadata": {},
   "source": [
    "There are a couple examples above where fingers are moved out of the frame during augmentation and the prediction is henced flawed. These issues are likely also present during training and it's hard to fault the model for getting predictions wrong in these fringe cases. "
   ]
  },
  {
   "cell_type": "code",
   "execution_count": 29,
   "metadata": {},
   "outputs": [
    {
     "data": {
      "image/png": "[encoded data removed]",
      "text/plain": [
       "<matplotlib.figure.Figure at 0x7f5294ed2c88>"
      ]
     },
     "metadata": {},
     "output_type": "display_data"
    }
   ],
   "source": [
    "from sklearn.metrics import confusion_matrix\n",
    "import seaborn as sn\n",
    "plt.figure(figsize=(9,8))\n",
    "cm = confusion_matrix(y_test, y_pred)\n",
    "cm = cm / cm.sum(axis=1)\n",
    "sn.heatmap(cm, annot=True);"
   ]
  },
  {
   "cell_type": "markdown",
   "metadata": {},
   "source": [
    "The confusion matrix helps summarize the cases that are misclasified as shown above. In general we see that the networks seems to usually under-count the number of fingers and this is probably at least in part to the issues in augmentation that we noted previously. The network performs quite well in general but has the most trouble counting four fingers, usually confusing it for three fingers. This issue seems most prevelant when the four fingers are quite rotated to the side. As the convolutional network is not rotation invariant, this issue could possibly be improved with more data or by adjusting the model. For the purposes of this project this issue is deemed acceptable but could be improved in the future. "
   ]
  },
  {
   "cell_type": "code",
   "execution_count": null,
   "metadata": {
    "collapsed": true,
    "jupyter": {
     "outputs_hidden": true
    }
   },
   "outputs": [],
   "source": []
  }
 ],
 "metadata": {
  "environment": {
   "name": "pytorch-gpu.1-4.m55",
   "type": "gcloud",
   "uri": "gcr.io/deeplearning-platform-release/pytorch-gpu.1-4:m55"
  },
  "kernelspec": {
   "display_name": "Python 3",
   "language": "python",
   "name": "python3"
  },
  "language_info": {
   "codemirror_mode": {
    "name": "ipython",
    "version": 3
   },
   "file_extension": ".py",
   "mimetype": "text/x-python",
   "name": "python",
   "nbconvert_exporter": "python",
   "pygments_lexer": "ipython3",
   "version": "3.7.8"
  }
 },
 "nbformat": 4,
 "nbformat_minor": 4
}