{
 "cells": [
  {
   "cell_type": "markdown",
   "metadata": {},
   "source": [
    "# How Many Fingers? - PyTorch\n",
    "\n",
    "In this replository is a small application that uses a CNN to predict how many figers you are holding up. The application does some small image manipulation to extract the edges of your hand against a plain background. It also offers functionality to collect data for training.\n",
    "\n",
    "Data has been collected within the application by holding up 0 to 5 fingers in the region of interest and recording images. For training ~1500 images of each case has been recorded with an additional ~600 images for validation."
   ]
  },
  {
   "cell_type": "code",
   "execution_count": 1,
   "metadata": {},
   "outputs": [],
   "source": [
    "from __future__ import print_function, division\n",
    "\n",
    "import torch\n",
    "import torch.nn as nn\n",
    "import torch.nn.functional as F\n",
    "import torch.optim as optim\n",
    "from torch.optim import lr_scheduler\n",
    "import numpy as np\n",
    "import torchvision\n",
    "from torchvision import datasets, models, transforms\n",
    "from pytorch_model_summary import summary\n",
    "import time\n",
    "import os\n",
    "import copy\n",
    "\n",
    "# plot figures\n",
    "%matplotlib inline\n",
    "import matplotlib\n",
    "import matplotlib.pyplot as plt\n",
    "plt.rcParams['axes.labelsize'] = 14\n",
    "plt.rcParams['xtick.labelsize'] = 12\n",
    "plt.rcParams['ytick.labelsize'] = 12"
   ]
  },
  {
   "cell_type": "markdown",
   "metadata": {},
   "source": [
    "## Dataset\n",
    "### > Tensorflow:\n",
    "\n",
    "First let's load in the data we've collected from the program. We will use kera's `ImageDataGenerator` to not only label the data from the directories but also to slightly augment the data with shifts, rotations, zooms, and mirroring. Mirroring will help to ensure that the data are not biased to a particular handedness.\n",
    "\n",
    "-------------\n",
    "### > PyTorch:\n",
    "\n",
    "Use torchvision and torch.utils.data packages for loading the data.\n",
    "Slightly augment the training data by with shifts, rotations, zooms, and mirroring.\n",
    "\n",
    "----- Data augmentation -----\n",
    "- rescale/resize                => transforms.Resize(300)\n",
    "- normalize                     => transforms.Normalize(mean=[0.5, 0.5, 0.5], std=[0.225, 0.225, 0.225]) OR transforms.Normalize(mean=[0.5], std=[0.225])\n",
    "\n",
    "                                =>ToTensor automatically convert all images between 0 - 1\n",
    "- rotations(10 degrees)         => transforms.RandomRotation(10)\n",
    "- shifts(x_position, y_postion) => transforms.RandomAffine(degrees=0, translate=(0.1 ,0.1))\n",
    "- zoom(0.2)                     => transforms.RandomAffine(degrees=0, scale=(.8, 1))\n",
    "- mirroring                     => RandomHorizontalFlip()"
   ]
  },
  {
   "cell_type": "code",
   "execution_count": 2,
   "metadata": {},
   "outputs": [],
   "source": [
    "DATA_PATH = './images/'\n",
    "BATCH_SIZE = 1\n",
    "NUM_WORKERS = 4\n",
    "\n",
    "data_transforms = {\n",
    "    'train': transforms.Compose([\n",
    "        transforms.Resize(300),\n",
    "        transforms.RandomRotation(10),\n",
    "        transforms.RandomAffine(degrees=0, translate=(0.1 ,0.1)),\n",
    "        transforms.RandomAffine(degrees=0, scale=(.8, 1)),\n",
    "        transforms.RandomHorizontalFlip(),\n",
    "        transforms.Grayscale(),\n",
    "        transforms.ToTensor(),\n",
    "        transforms.Normalize((0.5,),(0.5,))\n",
    "    ]),\n",
    "    'val': transforms.Compose([\n",
    "        transforms.Resize(300),\n",
    "        transforms.Grayscale(),\n",
    "        transforms.ToTensor(),\n",
    "        transforms.Normalize((0.5,),(0.5,))\n",
    "    ]),\n",
    "}\n",
    "\n",
    "image_datasets = {x: datasets.ImageFolder(os.path.join(DATA_PATH, x),\n",
    "                                          data_transforms[x])\n",
    "                  for x in ['train', 'val']}\n",
    "dataloaders = {x: torch.utils.data.DataLoader(image_datasets[x], batch_size=BATCH_SIZE,\n",
    "                                             shuffle=True, num_workers=NUM_WORKERS)\n",
    "              for x in ['train', 'val']}\n",
    "dataset_sizes = {x: len(image_datasets[x]) for x in ['train', 'val']}\n",
    "\n",
    "class_names = image_datasets['train'].classes"
   ]
  },
  {
   "cell_type": "code",
   "execution_count": 3,
   "metadata": {
    "tags": []
   },
   "outputs": [
    {
     "name": "stdout",
     "output_type": "stream",
     "text": [
      "Classes:  ['FIVE', 'FOUR', 'NONE', 'ONE', 'THREE', 'TWO']\n",
      "Number of train samples:  9081\n",
      "Number of test/validation samples:  3632\n",
      "# of training batches (steps per epoch):  9081\n",
      "# of validation batches (validation steps):  3632\n"
     ]
    }
   ],
   "source": [
    "print(\"Classes: \", class_names)\n",
    "print(\"Number of train samples: \", len(image_datasets['train']))\n",
    "print(\"Number of test/validation samples: \", len(image_datasets['val']))\n",
    "print(\"# of training batches (steps per epoch): \", len(dataloaders['train']))\n",
    "print(\"# of validation batches (validation steps): \", len(dataloaders['val']))"
   ]
  },
  {
   "cell_type": "markdown",
   "metadata": {},
   "source": [
    "To not bias the model towards any particular label we should have roughly equal examples of each"
   ]
  },
  {
   "cell_type": "code",
   "execution_count": 4,
   "metadata": {
    "tags": []
   },
   "outputs": [
    {
     "data": {
      "image/png": "[encoded data removed]",
      "text/plain": [
       "<Figure size 432x288 with 1 Axes>"
      ]
     },
     "metadata": {
      "needs_background": "light"
     },
     "output_type": "display_data"
    }
   ],
   "source": [
    "h1,_,_ = plt.hist(np.array(image_datasets['train'].targets), bins=range(0,7), alpha=0.8, color='blue', edgecolor='black')\n",
    "h2,_,_ = plt.hist(np.array(image_datasets['val'].targets),  bins=range(0,7), alpha=0.8, color='red', edgecolor='black')\n",
    "plt.ylabel('# of instances')\n",
    "plt.xlabel('Class');"
   ]
  },
  {
   "cell_type": "code",
   "execution_count": 5,
   "metadata": {
    "tags": []
   },
   "outputs": [
    {
     "name": "stdout",
     "output_type": "stream",
     "text": [
      "(1, 300, 300)\n",
      "(300, 300, 1)\n"
     ]
    },
    {
     "data": {
      "image/png": "[encoded data removed]",
      "text/plain": [
       "<Figure size 432x288 with 1 Axes>"
      ]
     },
     "metadata": {
      "needs_background": "light"
     },
     "output_type": "display_data"
    }
   ],
   "source": [
    "images, _ = next(iter(dataloaders['train']))\n",
    "print(images[0].numpy().shape)\n",
    "print(np.transpose(images[0].numpy()).shape)\n",
    "\n",
    "def imshow(img):\n",
    "    np_img = np.transpose(img.numpy())   \n",
    "    plt.imshow(np_img, cmap='gray')\n",
    "    plt.show()\n",
    "\n",
    "for i in range(1):\n",
    "    # get some random training images\n",
    "    dataiter = iter(dataloaders['train'])\n",
    "    images, classes = dataiter.next()\n",
    "    # show images\n",
    "    plt.title('Class:{}'.format(class_names[classes]))\n",
    "    imshow(torchvision.utils.make_grid(images))"
   ]
  },
  {
   "cell_type": "markdown",
   "metadata": {},
   "source": [
    "Next we'll do some quick checks to make sure our data are labeled correctly"
   ]
  },
  {
   "cell_type": "code",
   "execution_count": 4,
   "metadata": {},
   "outputs": [
    {
     "data": {
      "text/plain": [
       "True"
      ]
     },
     "execution_count": 4,
     "metadata": {},
     "output_type": "execute_result"
    }
   ],
   "source": [
    "# double check things aren't mixed up\n",
    "image_datasets['train'].class_to_idx == image_datasets['val'].class_to_idx"
   ]
  },
  {
   "cell_type": "markdown",
   "metadata": {},
   "source": [
    "## Convolutional Neural Net\n",
    "\n",
    "The data looks resonable so now we will define a CNN model to train and use within our application. The model below has not been thoroughly optimized but seems to perform well for our purposes.\n",
    "\n",
    "--------------\n",
    "\n",
    "\n",
    "- kernel_size =>  a 2-tuple specifying the width and height of the 2D convolution window. (A single value represents the same value for width and heigth)\n",
    "\n",
    "***For nn.Linear you would have to provide the number if in_features first, which can be calculated using your layers and input shape or just by printing out the shape of the activation in your forward method.\n",
    "\n"
   ]
  },
  {
   "cell_type": "code",
   "execution_count": null,
   "metadata": {},
   "outputs": [],
   "source": []
  },
  {
   "cell_type": "code",
   "execution_count": 4,
   "metadata": {
    "tags": []
   },
   "outputs": [],
   "source": [
    "# model with input_shape = (300, 300, 1)\n",
    "class CNN(nn.Module):\n",
    "    def __init__(self):\n",
    "        super(CNN, self).__init__()\n",
    "        #input_channels = 1, output channels = 6, kernel_size=(3,3)\n",
    "        self.conv1 = nn.Conv2d(1, 32, kernel_size=3)\n",
    "        self.pool1 = nn.MaxPool2d(2) # same as pool_size=(2,2)\n",
    "        self.conv2 = nn.Conv2d(32, 64, kernel_size=3)\n",
    "        self.pool2 = nn.MaxPool2d(2)\n",
    "        self.conv3 = nn.Conv2d(64, 128, kernel_size=3)\n",
    "        self.pool3 = nn.MaxPool2d(2)\n",
    "        self.conv4 = nn.Conv2d(128, 128, kernel_size=3)\n",
    "        self.pool4 = nn.MaxPool2d(2)\n",
    "\n",
    "        self.hidden= nn.Linear(128*16*16, 512) # The linear layer should therefore take 128*16*16=32768 input features\n",
    "        self.drop = nn.Dropout(0.3) # 30% probability of an element to be zeroed\n",
    "        self.out = nn.Linear(512, 6)\n",
    "\n",
    "    def forward(self, x):\n",
    "        x = F.relu(self.conv1(x))  # -> [batch_size, 32, 298, 298] => The 32 is given by the number of kernels your conv layer is using.\n",
    "                                                                    # Since you are not using any padding and leave the stride and dilation as 1,\n",
    "                                                                    # a kernel size of 3 will crop 1 pixel in each spatial dimension.\n",
    "                                                                    # Therefore you’ll end up with 32 activation maps of spatial size 298x298.\n",
    "        # print(x.shape)\n",
    "        x = self.pool1(x) # -> [batch_size, 32, 149, 149] => The max pooling layer will halve the spatial size\n",
    "        # print(x.shape)\n",
    "        x = F.relu(self.conv2(x))\n",
    "        x = self.pool2(x)\n",
    "        x = F.relu(self.conv3(x))\n",
    "        x = self.pool3(x)\n",
    "        x = F.relu(self.conv4(x))\n",
    "        x = self.pool4(x)\n",
    "        x = x.flatten(start_dim=1)\n",
    "        #x = torch.flatten(x, start_dim=1) # Flattens a contiguous range of dims in a tensor\n",
    "        #x = x.view(x.size(0), -1) # -> [batch_size, 128*16*16=32768]\n",
    "        x = F.relu(self.hidden(x)) # -> [batch_size, 512]\n",
    "        x = self.drop(x) # -> [batch_size, 512]\n",
    "        x = self.out(x)\n",
    "        x = F.softmax(x, dim=1) # -> [batch_size, 6]\n",
    "        return x\n",
    "\n",
    "model = CNN()"
   ]
  },
  {
   "cell_type": "code",
   "execution_count": 19,
   "metadata": {},
   "outputs": [
    {
     "data": {
      "text/plain": [
       "' **********------ FOR TESTING ------**********'"
      ]
     },
     "execution_count": 19,
     "metadata": {},
     "output_type": "execute_result"
    }
   ],
   "source": [
    "\"\"\" **********------ FOR TESTING ------**********\"\"\"\n",
    "# batch_size, C, H, W = 1, 1, 300, 300\n",
    "# x = torch.randn(batch_size, C, H, W)\n",
    "# output = model(x)"
   ]
  },
  {
   "cell_type": "code",
   "execution_count": 6,
   "metadata": {
    "tags": []
   },
   "outputs": [
    {
     "name": "stdout",
     "output_type": "stream",
     "text": [
      "-------------------------------------------------------------------------\n",
      "      Layer (type)          Output Shape         Param #     Tr. Param #\n",
      "=========================================================================\n",
      "          Conv2d-1     [1, 32, 298, 298]             320             320\n",
      "       MaxPool2d-2     [1, 32, 149, 149]               0               0\n",
      "          Conv2d-3     [1, 64, 147, 147]          18,496          18,496\n",
      "       MaxPool2d-4       [1, 64, 73, 73]               0               0\n",
      "          Conv2d-5      [1, 128, 71, 71]          73,856          73,856\n",
      "       MaxPool2d-6      [1, 128, 35, 35]               0               0\n",
      "          Conv2d-7      [1, 128, 33, 33]         147,584         147,584\n",
      "       MaxPool2d-8      [1, 128, 16, 16]               0               0\n",
      "          Linear-9              [1, 512]      16,777,728      16,777,728\n",
      "        Dropout-10              [1, 512]               0               0\n",
      "         Linear-11                [1, 6]           3,078           3,078\n",
      "=========================================================================\n",
      "Total params: 17,021,062\n",
      "Trainable params: 17,021,062\n",
      "Non-trainable params: 0\n",
      "-------------------------------------------------------------------------\n",
      "\n",
      "\n",
      "===================================== Hierarchical Summary =====================================\n",
      "\n",
      "CNN(\n",
      "  (conv1): Conv2d(1, 32, kernel_size=(3, 3), stride=(1, 1)), 320 params\n",
      "  (pool1): MaxPool2d(kernel_size=2, stride=2, padding=0, dilation=1, ceil_mode=False), 0 params\n",
      "  (conv2): Conv2d(32, 64, kernel_size=(3, 3), stride=(1, 1)), 18,496 params\n",
      "  (pool2): MaxPool2d(kernel_size=2, stride=2, padding=0, dilation=1, ceil_mode=False), 0 params\n",
      "  (conv3): Conv2d(64, 128, kernel_size=(3, 3), stride=(1, 1)), 73,856 params\n",
      "  (pool3): MaxPool2d(kernel_size=2, stride=2, padding=0, dilation=1, ceil_mode=False), 0 params\n",
      "  (conv4): Conv2d(128, 128, kernel_size=(3, 3), stride=(1, 1)), 147,584 params\n",
      "  (pool4): MaxPool2d(kernel_size=2, stride=2, padding=0, dilation=1, ceil_mode=False), 0 params\n",
      "  (hidden): Linear(in_features=32768, out_features=512, bias=True), 16,777,728 params\n",
      "  (drop): Dropout(p=0.3, inplace=False), 0 params\n",
      "  (out): Linear(in_features=512, out_features=6, bias=True), 3,078 params\n",
      "), 17,021,062 params\n",
      "\n",
      "\n",
      "================================================================================================\n",
      "\n"
     ]
    }
   ],
   "source": [
    "print(summary(model, torch.zeros((1, 1, 300, 300)), show_input=False, show_hierarchical=True))"
   ]
  },
  {
   "cell_type": "markdown",
   "metadata": {},
   "source": [
    "Construct an loss function, and an optimizer. "
   ]
  },
  {
   "cell_type": "code",
   "execution_count": 5,
   "metadata": {},
   "outputs": [],
   "source": [
    "criterion = nn.CrossEntropyLoss()\n",
    "\n",
    "# optimizer = optim.Adadelta(model.parameters(), lr=0.001)\n",
    "optimizer = optim.Adadelta(model.parameters(), lr=0.01)\n",
    "# Construct learning rate scheduler\n",
    "lr_scheduler = torch.optim.lr_scheduler.StepLR(optimizer, step_size=3, gamma=0.1)\n"
   ]
  },
  {
   "cell_type": "markdown",
   "metadata": {},
   "source": [
    "## Training\n",
    "\n",
    "-  Training will save the best model.\n",
    "\n",
    "- We are not doing any hyper-parameter optimization so we will not define a separate testing and validation set. We can however evaluate our model further in real time within the application.\n"
   ]
  },
  {
   "cell_type": "code",
   "execution_count": 6,
   "metadata": {},
   "outputs": [
    {
     "data": {
      "text/plain": [
       "CNN(\n",
       "  (conv1): Conv2d(1, 32, kernel_size=(3, 3), stride=(1, 1))\n",
       "  (pool1): MaxPool2d(kernel_size=2, stride=2, padding=0, dilation=1, ceil_mode=False)\n",
       "  (conv2): Conv2d(32, 64, kernel_size=(3, 3), stride=(1, 1))\n",
       "  (pool2): MaxPool2d(kernel_size=2, stride=2, padding=0, dilation=1, ceil_mode=False)\n",
       "  (conv3): Conv2d(64, 128, kernel_size=(3, 3), stride=(1, 1))\n",
       "  (pool3): MaxPool2d(kernel_size=2, stride=2, padding=0, dilation=1, ceil_mode=False)\n",
       "  (conv4): Conv2d(128, 128, kernel_size=(3, 3), stride=(1, 1))\n",
       "  (pool4): MaxPool2d(kernel_size=2, stride=2, padding=0, dilation=1, ceil_mode=False)\n",
       "  (hidden): Linear(in_features=32768, out_features=512, bias=True)\n",
       "  (drop): Dropout(p=0.3, inplace=False)\n",
       "  (out): Linear(in_features=512, out_features=6, bias=True)\n",
       ")"
      ]
     },
     "execution_count": 6,
     "metadata": {},
     "output_type": "execute_result"
    }
   ],
   "source": [
    "device = torch.device(\"cuda:0\" if torch.cuda.is_available() else \"cpu\")\n",
    "model.to(device)"
   ]
  },
  {
   "cell_type": "code",
   "execution_count": 7,
   "metadata": {},
   "outputs": [],
   "source": [
    "def train_model(model, criterion, optimizer, scheduler, num_epochs=25):\n",
    "    training_start_time = time.time()\n",
    " \n",
    "    loss_history = dict()\n",
    "    train_loss_history = []    \n",
    "    val_loss_history = []\n",
    "    \n",
    "    acc_history = dict()\n",
    "    train_acc_history = []    \n",
    "    val_acc_history = []\n",
    "\n",
    "    best_model_wts = copy.deepcopy(model.state_dict())\n",
    "    best_acc = 0.0\n",
    "\n",
    "    for epoch in range(num_epochs):\n",
    "        print('Epoch {}/{}'.format(epoch + 1, num_epochs))\n",
    "        epoch_start_time = time.time()\n",
    "        \n",
    "        # Each epoch has a training and validation phase\n",
    "        for phase in ['train', 'val']:\n",
    "            if phase == 'train':\n",
    "                model.train()  # Set model to training mode\n",
    "            else:\n",
    "                model.eval()   # Set model to evaluate mode\n",
    "\n",
    "            running_loss = 0.0\n",
    "            running_corrects = 0\n",
    "\n",
    "            # Iterate over data.\n",
    "            for inputs, labels in dataloaders[phase]:\n",
    "                inputs = inputs.to(device)\n",
    "                labels = labels.to(device)\n",
    "\n",
    "                # zero the parameter gradients\n",
    "                optimizer.zero_grad()\n",
    "\n",
    "                # forward\n",
    "                # track history if only in train\n",
    "                with torch.set_grad_enabled(phase == 'train'):\n",
    "                    outputs = model(inputs)\n",
    "                    _, preds = torch.max(outputs, 1)\n",
    "                    loss = criterion(outputs, labels)\n",
    "\n",
    "                    # backward + optimize only if in training phase\n",
    "                    if phase == 'train':\n",
    "                        loss.backward()\n",
    "                        optimizer.step()\n",
    "\n",
    "                # statistics\n",
    "                running_loss += loss.item() * inputs.size(0)\n",
    "                running_corrects += torch.sum(preds == labels.data)\n",
    "#             if phase == 'train':\n",
    "#                 scheduler.step()\n",
    "\n",
    "            epoch_loss = running_loss / dataset_sizes[phase]\n",
    "            epoch_acc = running_corrects.double() / dataset_sizes[phase]\n",
    "\n",
    "            print('>>> {:5} -- Loss: {:.4f} | Acc: {:.4f}'.format(phase, epoch_loss, epoch_acc))\n",
    "\n",
    "            if phase == 'train':\n",
    "                train_loss_history.append(epoch_loss)\n",
    "                train_acc_history.append(epoch_acc)\n",
    "            # deep copy the model\n",
    "            if phase == 'val' and epoch_acc > best_acc:\n",
    "                best_acc = epoch_acc\n",
    "                best_model_wts = copy.deepcopy(model.state_dict())\n",
    "            if phase == 'val':\n",
    "                val_loss_history.append(epoch_loss)\n",
    "                val_acc_history.append(epoch_acc)\n",
    "\n",
    "        epoch_time_elapsed = time.time() - epoch_start_time\n",
    "        print('-' * 40, '{:.0f}m {:.0f}s'.format(epoch_time_elapsed // 60, epoch_time_elapsed % 60))\n",
    "\n",
    "    total_time_elapsed = time.time() - training_start_time\n",
    "    print('Training complete in {:.0f}m {:.0f}s'.format(total_time_elapsed // 60, total_time_elapsed % 60))\n",
    "    print('Best val Acc: {:4f}'.format(best_acc))\n",
    "\n",
    "    loss_history['train'] = train_loss_history\n",
    "    loss_history['val'] = val_loss_history\n",
    "    \n",
    "    acc_history['train'] = train_acc_history\n",
    "    acc_history['val'] = val_acc_history\n",
    "    \n",
    "    # load best model weights\n",
    "    model.load_state_dict(best_model_wts)\n",
    "    return model, acc_history, loss_history"
   ]
  },
  {
   "cell_type": "code",
   "execution_count": 8,
   "metadata": {},
   "outputs": [
    {
     "name": "stdout",
     "output_type": "stream",
     "text": [
      "Epoch 1/40\n",
      ">>> train -- Loss: 1.6707 | Acc: 0.3488\n",
      ">>> val   -- Loss: 1.5014 | Acc: 0.5468\n",
      "---------------------------------------- 1m 32s\n",
      "Epoch 2/40\n",
      ">>> train -- Loss: 1.4759 | Acc: 0.5679\n",
      ">>> val   -- Loss: 1.3680 | Acc: 0.6845\n",
      "---------------------------------------- 1m 32s\n",
      "Epoch 3/40\n",
      ">>> train -- Loss: 1.3635 | Acc: 0.6831\n",
      ">>> val   -- Loss: 1.2139 | Acc: 0.8411\n",
      "---------------------------------------- 1m 32s\n",
      "Epoch 4/40\n",
      ">>> train -- Loss: 1.2961 | Acc: 0.7498\n",
      ">>> val   -- Loss: 1.1996 | Acc: 0.8527\n",
      "---------------------------------------- 1m 32s\n",
      "Epoch 5/40\n",
      ">>> train -- Loss: 1.2460 | Acc: 0.8008\n",
      ">>> val   -- Loss: 1.1617 | Acc: 0.8860\n",
      "---------------------------------------- 1m 31s\n",
      "Epoch 6/40\n",
      ">>> train -- Loss: 1.2201 | Acc: 0.8257\n",
      ">>> val   -- Loss: 1.1720 | Acc: 0.8706\n",
      "---------------------------------------- 1m 32s\n",
      "Epoch 7/40\n",
      ">>> train -- Loss: 1.2039 | Acc: 0.8413\n",
      ">>> val   -- Loss: 1.1396 | Acc: 0.9064\n",
      "---------------------------------------- 1m 32s\n",
      "Epoch 8/40\n",
      ">>> train -- Loss: 1.1832 | Acc: 0.8612\n",
      ">>> val   -- Loss: 1.1374 | Acc: 0.9067\n",
      "---------------------------------------- 1m 32s\n",
      "Epoch 9/40\n",
      ">>> train -- Loss: 1.1722 | Acc: 0.8742\n",
      ">>> val   -- Loss: 1.1312 | Acc: 0.9133\n",
      "---------------------------------------- 1m 32s\n",
      "Epoch 10/40\n",
      ">>> train -- Loss: 1.1646 | Acc: 0.8801\n",
      ">>> val   -- Loss: 1.1276 | Acc: 0.9152\n",
      "---------------------------------------- 1m 32s\n",
      "Epoch 11/40\n",
      ">>> train -- Loss: 1.1541 | Acc: 0.8908\n",
      ">>> val   -- Loss: 1.1513 | Acc: 0.8926\n",
      "---------------------------------------- 1m 32s\n",
      "Epoch 12/40\n",
      ">>> train -- Loss: 1.1505 | Acc: 0.8932\n",
      ">>> val   -- Loss: 1.1073 | Acc: 0.9367\n",
      "---------------------------------------- 1m 32s\n",
      "Epoch 13/40\n",
      ">>> train -- Loss: 1.1370 | Acc: 0.9061\n",
      ">>> val   -- Loss: 1.1042 | Acc: 0.9403\n",
      "---------------------------------------- 1m 32s\n",
      "Epoch 14/40\n",
      ">>> train -- Loss: 1.1328 | Acc: 0.9116\n",
      ">>> val   -- Loss: 1.1144 | Acc: 0.9303\n",
      "---------------------------------------- 1m 32s\n",
      "Epoch 15/40\n",
      ">>> train -- Loss: 1.1260 | Acc: 0.9180\n",
      ">>> val   -- Loss: 1.1061 | Acc: 0.9383\n",
      "---------------------------------------- 1m 31s\n",
      "Epoch 16/40\n",
      ">>> train -- Loss: 1.1235 | Acc: 0.9228\n",
      ">>> val   -- Loss: 1.0932 | Acc: 0.9513\n",
      "---------------------------------------- 1m 32s\n",
      "Epoch 17/40\n",
      ">>> train -- Loss: 1.1188 | Acc: 0.9257\n",
      ">>> val   -- Loss: 1.0929 | Acc: 0.9518\n",
      "---------------------------------------- 1m 31s\n",
      "Epoch 18/40\n",
      ">>> train -- Loss: 1.1145 | Acc: 0.9294\n",
      ">>> val   -- Loss: 1.0996 | Acc: 0.9441\n",
      "---------------------------------------- 1m 31s\n",
      "Epoch 19/40\n",
      ">>> train -- Loss: 1.1115 | Acc: 0.9328\n",
      ">>> val   -- Loss: 1.1052 | Acc: 0.9375\n",
      "---------------------------------------- 1m 32s\n",
      "Epoch 20/40\n",
      ">>> train -- Loss: 1.1083 | Acc: 0.9360\n",
      ">>> val   -- Loss: 1.1043 | Acc: 0.9403\n",
      "---------------------------------------- 1m 31s\n",
      "Epoch 21/40\n",
      ">>> train -- Loss: 1.1052 | Acc: 0.9391\n",
      ">>> val   -- Loss: 1.0851 | Acc: 0.9601\n",
      "---------------------------------------- 1m 31s\n",
      "Epoch 22/40\n",
      ">>> train -- Loss: 1.1011 | Acc: 0.9442\n",
      ">>> val   -- Loss: 1.0899 | Acc: 0.9559\n",
      "---------------------------------------- 1m 33s\n",
      "Epoch 23/40\n",
      ">>> train -- Loss: 1.1030 | Acc: 0.9414\n",
      ">>> val   -- Loss: 1.0967 | Acc: 0.9466\n",
      "---------------------------------------- 1m 31s\n",
      "Epoch 24/40\n",
      ">>> train -- Loss: 1.1003 | Acc: 0.9428\n",
      ">>> val   -- Loss: 1.0912 | Acc: 0.9518\n",
      "---------------------------------------- 1m 32s\n",
      "Epoch 25/40\n",
      ">>> train -- Loss: 1.0934 | Acc: 0.9514\n",
      ">>> val   -- Loss: 1.0786 | Acc: 0.9650\n",
      "---------------------------------------- 1m 31s\n",
      "Epoch 26/40\n",
      ">>> train -- Loss: 1.0939 | Acc: 0.9502\n",
      ">>> val   -- Loss: 1.0826 | Acc: 0.9612\n",
      "---------------------------------------- 1m 31s\n",
      "Epoch 27/40\n",
      ">>> train -- Loss: 1.0961 | Acc: 0.9481\n",
      ">>> val   -- Loss: 1.0758 | Acc: 0.9681\n",
      "---------------------------------------- 1m 32s\n",
      "Epoch 28/40\n",
      ">>> train -- Loss: 1.0945 | Acc: 0.9490\n",
      ">>> val   -- Loss: 1.0735 | Acc: 0.9705\n",
      "---------------------------------------- 1m 31s\n",
      "Epoch 29/40\n",
      ">>> train -- Loss: 1.0867 | Acc: 0.9575\n",
      ">>> val   -- Loss: 1.0849 | Acc: 0.9598\n",
      "---------------------------------------- 1m 32s\n",
      "Epoch 30/40\n",
      ">>> train -- Loss: 1.0888 | Acc: 0.9546\n",
      ">>> val   -- Loss: 1.0762 | Acc: 0.9667\n",
      "---------------------------------------- 1m 31s\n",
      "Epoch 31/40\n",
      ">>> train -- Loss: 1.0880 | Acc: 0.9561\n",
      ">>> val   -- Loss: 1.0716 | Acc: 0.9714\n",
      "---------------------------------------- 1m 31s\n",
      "Epoch 32/40\n",
      ">>> train -- Loss: 1.0882 | Acc: 0.9555\n",
      ">>> val   -- Loss: 1.0804 | Acc: 0.9623\n",
      "---------------------------------------- 1m 31s\n",
      "Epoch 33/40\n",
      ">>> train -- Loss: 1.0847 | Acc: 0.9594\n",
      ">>> val   -- Loss: 1.0635 | Acc: 0.9796\n",
      "---------------------------------------- 1m 32s\n",
      "Epoch 34/40\n",
      ">>> train -- Loss: 1.0849 | Acc: 0.9591\n",
      ">>> val   -- Loss: 1.0805 | Acc: 0.9615\n",
      "---------------------------------------- 1m 31s\n",
      "Epoch 35/40\n",
      ">>> train -- Loss: 1.0839 | Acc: 0.9598\n",
      ">>> val   -- Loss: 1.0725 | Acc: 0.9716\n",
      "---------------------------------------- 1m 31s\n",
      "Epoch 36/40\n",
      ">>> train -- Loss: 1.0811 | Acc: 0.9623\n",
      ">>> val   -- Loss: 1.0658 | Acc: 0.9774\n",
      "---------------------------------------- 1m 31s\n",
      "Epoch 37/40\n",
      ">>> train -- Loss: 1.0802 | Acc: 0.9636\n",
      ">>> val   -- Loss: 1.0788 | Acc: 0.9623\n",
      "---------------------------------------- 1m 31s\n",
      "Epoch 38/40\n",
      ">>> train -- Loss: 1.0808 | Acc: 0.9626\n",
      ">>> val   -- Loss: 1.0625 | Acc: 0.9810\n",
      "---------------------------------------- 1m 32s\n",
      "Epoch 39/40\n",
      ">>> train -- Loss: 1.0793 | Acc: 0.9642\n",
      ">>> val   -- Loss: 1.0733 | Acc: 0.9722\n",
      "---------------------------------------- 1m 32s\n",
      "Epoch 40/40\n",
      ">>> train -- Loss: 1.0787 | Acc: 0.9655\n",
      ">>> val   -- Loss: 1.0619 | Acc: 0.9824\n",
      "---------------------------------------- 1m 32s\n",
      "Training complete in 61m 6s\n",
      "Best val Acc: 0.982379\n"
     ]
    }
   ],
   "source": [
    "# Test #11\n",
    "NUM_EPOCHS = 40\n",
    "PATH = './model_test11.pth'\n",
    "best_model, acc_history, loss_history = train_model(model, criterion, optimizer, lr_scheduler, num_epochs=NUM_EPOCHS)\n",
    "torch.save(best_model.state_dict(), PATH)"
   ]
  },
  {
   "cell_type": "code",
   "execution_count": 9,
   "metadata": {},
   "outputs": [
    {
     "data": {
      "image/png": "[encoded data removed]",
      "text/plain": [
       "<Figure size 1152x432 with 2 Axes>"
      ]
     },
     "metadata": {
      "needs_background": "light"
     },
     "output_type": "display_data"
    }
   ],
   "source": [
    "train_loss_hist = []\n",
    "val_loss_hist = []\n",
    "train_acc_hist = []\n",
    "val_acc_hist = []\n",
    "\n",
    "train_loss_hist = [h for h in loss_history['train']]\n",
    "val_loss_hist = [h for h in loss_history['val']]\n",
    "train_acc_hist = [h.cpu().numpy() for h in acc_history['train']]\n",
    "val_acc_hist = [h.cpu().numpy() for h in acc_history['val']]\n",
    "\n",
    "plt.figure(figsize=(16,6))\n",
    "plt.subplot(1,2,1)\n",
    "plt.title(\"Loss vs. Number of Epochs\")\n",
    "plt.xlabel(\"# of Epochs\")\n",
    "plt.ylabel(\"Loss\")\n",
    "plt.plot(range(NUM_EPOCHS), train_loss_hist,'r-', label=\"train\")\n",
    "plt.plot(range(NUM_EPOCHS), val_loss_hist,'b-', label=\"test\")\n",
    "plt.ylim((0,2))\n",
    "plt.xticks(np.arange(0, NUM_EPOCHS+1, 5.0))\n",
    "plt.legend(prop={'size': 20}, loc='upper right')\n",
    "plt.subplot(1,2,2)\n",
    "plt.title(\"Accuracy vs. Number of Epochs\")\n",
    "plt.xlabel(\"# of Epochs\")\n",
    "plt.ylabel(\"Accuracy\")\n",
    "plt.plot(range(NUM_EPOCHS), train_acc_hist,'r-', label=\"train\")\n",
    "plt.plot(range(NUM_EPOCHS), val_acc_hist,'b-', label=\"test\")\n",
    "plt.ylim((0,1.))\n",
    "plt.xticks(np.arange(0, NUM_EPOCHS+1, 5.0))\n",
    "plt.yticks(np.arange(0, 1.1, 0.1))\n",
    "plt.legend(prop={'size': 20}, loc='lower right')\n",
    "plt.show()"
   ]
  },
  {
   "cell_type": "code",
   "execution_count": null,
   "metadata": {},
   "outputs": [],
   "source": []
  },
  {
   "cell_type": "markdown",
   "metadata": {},
   "source": [
    "Since there is dropout being applied in the network and additional (random) augmentation being applied to the training set it is not surprising that the validation set is out-performing the training set. Nonetheless, it seems that in either case we're able to achieve near perfect ( > 99% ) accuracy.\n",
    "\n",
    "This model is able to hence surpass human performance when the human is severely concussed or inebriated."
   ]
  },
  {
   "cell_type": "markdown",
   "metadata": {},
   "source": [
    "## Performance and Error Analysis\n",
    "\n",
    "Our model is performing so well that there are not many cases where the model has failed for us to understand our model better. To try and probe a bit deeper I will expand the testing set and apply some augmentation."
   ]
  },
  {
   "cell_type": "code",
   "execution_count": 14,
   "metadata": {},
   "outputs": [
    {
     "name": "stdout",
     "output_type": "stream",
     "text": [
      "Found 3632 images belonging to 6 classes.\n"
     ]
    }
   ],
   "source": [
    "test_datagen  = ImageDataGenerator( rescale=1./255, \n",
    "                                    rotation_range=10.,\n",
    "                                    width_shift_range=0.1,\n",
    "                                    height_shift_range=0.1,\n",
    "                                    zoom_range=0.2,\n",
    "                                    horizontal_flip=True\n",
    "                                  )\n",
    "\n",
    "test_gen = test_datagen.flow_from_directory(\n",
    "        'images/test/',\n",
    "        target_size=(300, 300),\n",
    "        color_mode='grayscale',\n",
    "        batch_size=nbatch,\n",
    "        classes=['NONE','ONE','TWO','THREE','FOUR','FIVE'],\n",
    "        class_mode='categorical'\n",
    "    )"
   ]
  },
  {
   "cell_type": "code",
   "execution_count": 23,
   "metadata": {},
   "outputs": [
    {
     "name": "stdout",
     "output_type": "stream",
     "text": [
      "Testing Accuracy = 99.25%\n"
     ]
    }
   ],
   "source": [
    "X_test, y_test = [], []\n",
    "for ibatch, (X, y) in enumerate(test_gen):\n",
    "    X_test.append(X)\n",
    "    y_test.append(y)\n",
    "    ibatch += 1\n",
    "    if (ibatch == 5*28): break\n",
    "\n",
    "# Concatenate everything together\n",
    "X_test = np.concatenate(X_test)\n",
    "y_test = np.concatenate(y_test)\n",
    "y_test = np.int32([np.argmax(r) for r in y_test])\n",
    "\n",
    "# Get the predictions from the model and calculate the accuracy\n",
    "y_pred = np.int32([np.argmax(r) for r in model.predict(X_test)])\n",
    "match = (y_test == y_pred)\n",
    "print('Testing Accuracy = %.2f%%' % (np.sum(match)*100/match.shape[0]))"
   ]
  },
  {
   "cell_type": "code",
   "execution_count": 24,
   "metadata": {},
   "outputs": [
    {
     "name": "stdout",
     "output_type": "stream",
     "text": [
      "131 examples of bad predictions\n"
     ]
    }
   ],
   "source": [
    "nomatch = (y_test != y_pred)\n",
    "bad_pred = y_pred[nomatch]\n",
    "bad_true = y_test[nomatch]\n",
    "bad_img = X_test[nomatch]\n",
    "print('%d examples of bad predictions' % bad_pred.size)"
   ]
  },
  {
   "cell_type": "code",
   "execution_count": 34,
   "metadata": {},
   "outputs": [
    {
     "data": {
      "image/png": "[encoded data removed]",
      "text/plain": [
       "<matplotlib.figure.Figure at 0x7f5294ece780>"
      ]
     },
     "metadata": {},
     "output_type": "display_data"
    }
   ],
   "source": [
    "plt.figure(figsize=(15,15))\n",
    "for i in range(min(bad_true.size,25)):\n",
    "    plt.subplot(5,5,i+1)\n",
    "    i+=75\n",
    "    plt.title('Pred: %d (Truth: %d)' % (bad_pred[i], bad_true[i]))\n",
    "    plt.axis('off')\n",
    "    plt.imshow(bad_img[i][:,:,0], cmap='gray')"
   ]
  },
  {
   "cell_type": "markdown",
   "metadata": {},
   "source": [
    "There are a couple examples above where fingers are moved out of the frame during augmentation and the prediction is henced flawed. These issues are likely also present during training and it's hard to fault the model for getting predictions wrong in these fringe cases. "
   ]
  },
  {
   "cell_type": "code",
   "execution_count": 29,
   "metadata": {},
   "outputs": [
    {
     "data": {
      "image/png": "[encoded data removed]",
      "text/plain": [
       "<matplotlib.figure.Figure at 0x7f5294ed2c88>"
      ]
     },
     "metadata": {},
     "output_type": "display_data"
    }
   ],
   "source": [
    "from sklearn.metrics import confusion_matrix\n",
    "import seaborn as sn\n",
    "plt.figure(figsize=(9,8))\n",
    "cm = confusion_matrix(y_test, y_pred)\n",
    "cm = cm / cm.sum(axis=1)\n",
    "sn.heatmap(cm, annot=True);"
   ]
  },
  {
   "cell_type": "markdown",
   "metadata": {},
   "source": [
    "The confusion matrix helps summarize the cases that are misclasified as shown above. In general we see that the networks seems to usually under-count the number of fingers and this is probably at least in part to the issues in augmentation that we noted previously. The network performs quite well in general but has the most trouble counting four fingers, usually confusing it for three fingers. This issue seems most prevelant when the four fingers are quite rotated to the side. As the convolutional network is not rotation invariant, this issue could possibly be improved with more data or by adjusting the model. For the purposes of this project this issue is deemed acceptable but could be improved in the future. "
   ]
  },
  {
   "cell_type": "code",
   "execution_count": null,
   "metadata": {
    "collapsed": true,
    "jupyter": {
     "outputs_hidden": true
    }
   },
   "outputs": [],
   "source": []
  }
 ],
 "metadata": {
  "environment": {
   "name": "pytorch-gpu.1-4.m55",
   "type": "gcloud",
   "uri": "gcr.io/deeplearning-platform-release/pytorch-gpu.1-4:m55"
  },
  "kernelspec": {
   "display_name": "Python 3",
   "language": "python",
   "name": "python3"
  },
  "language_info": {
   "codemirror_mode": {
    "name": "ipython",
    "version": 3
   },
   "file_extension": ".py",
   "mimetype": "text/x-python",
   "name": "python",
   "nbconvert_exporter": "python",
   "pygments_lexer": "ipython3",
   "version": "3.7.8"
  }
 },
 "nbformat": 4,
 "nbformat_minor": 4
}